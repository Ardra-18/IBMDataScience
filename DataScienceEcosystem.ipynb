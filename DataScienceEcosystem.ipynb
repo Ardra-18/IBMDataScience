{
 "cells": [
  {
   "cell_type": "markdown",
   "id": "00c33f8e-9407-4b7d-b0f4-d6a8ed3c7d0c",
   "metadata": {},
   "source": [
    "# Data Science Tools and Ecosystem"
   ]
  },
  {
   "cell_type": "markdown",
   "id": "1192e574-9bde-4cf8-8b99-8c9aa4ca8abf",
   "metadata": {},
   "source": [
    "# Data Science Tools and Ecosystem"
   ]
  },
  {
   "cell_type": "markdown",
   "id": "4c87c044-699f-4cf8-b5f3-6a68519d0ab9",
   "metadata": {},
   "source": [
    "### In this notebook, Data Science Tools and Ecosystem are summarized."
   ]
  },
  {
   "cell_type": "markdown",
   "id": "c8f2c9c6-a606-4bd8-996a-aeacfa92d38c",
   "metadata": {},
   "source": [
    "### In this notebook, Data Science Tools and Ecosystem are summarized."
   ]
  },
  {
   "cell_type": "markdown",
   "id": "9f89db9d-aa37-49c5-accc-35d1dbd1c527",
   "metadata": {},
   "source": [
    "#### Some of the popular languages that Data Scientists use are:\n",
    "1. Python\n",
    "2. R\n",
    "3. Scala"
   ]
  },
  {
   "cell_type": "markdown",
   "id": "8cd7dd2c-7f58-4c5f-abe1-4d0a2a7fb2dd",
   "metadata": {},
   "source": [
    "#### Some of the popular languages that Data Scientists use are:\n",
    "1. Python\n",
    "2. R\n",
    "3. Scala"
   ]
  },
  {
   "cell_type": "markdown",
   "id": "a69741c4-b914-4f1d-b042-febfd1b6bb4f",
   "metadata": {},
   "source": [
    "#### Some of the commonly used libraries used by Data Scientists include:\n",
    "1. NumPy\n",
    "2. TensorFlow\n",
    "3. SciPy"
   ]
  },
  {
   "cell_type": "markdown",
   "id": "5b2a6b26-f720-4b72-8d8f-1832a231e5d4",
   "metadata": {},
   "source": [
    "#### Some of the commonly used libraries used by Data Scientists include:\n",
    "1. NumPy\n",
    "2. TensorFlow\n",
    "3. SciPy"
   ]
  },
  {
   "cell_type": "markdown",
   "id": "edd5635e-20fa-44ca-a238-aff36afd47c9",
   "metadata": {},
   "source": [
    "|Data Science Tools|\n",
    "|------------------|\n",
    "|Apache Spark|\n",
    "|Julia|\n",
    "|Jupyter Notebook|"
   ]
  },
  {
   "cell_type": "markdown",
   "id": "27054461-6b82-47ce-bf69-697ad319804a",
   "metadata": {},
   "source": [
    "|Data Science Tools|\n",
    "|------------------|\n",
    "|Apache Spark|\n",
    "|Julia|\n",
    "|Jupyter Notebook|"
   ]
  },
  {
   "cell_type": "markdown",
   "id": "4e655bf2-8d17-47f7-9c56-4d31d7b3bb6d",
   "metadata": {},
   "source": [
    "### Below are a few examples of evaluating arithmetic expressions in Python"
   ]
  },
  {
   "cell_type": "markdown",
   "id": "bec98a79-3b71-461b-a5a8-8b05ffcb0556",
   "metadata": {},
   "source": [
    "### Below are a few examples of evaluating arithmetic expressions in Python"
   ]
  },
  {
   "cell_type": "code",
   "execution_count": 1,
   "id": "14937541-7120-4069-95b0-c6835c433dee",
   "metadata": {
    "tags": []
   },
   "outputs": [
    {
     "data": {
      "text/plain": [
       "17"
      ]
     },
     "execution_count": 1,
     "metadata": {},
     "output_type": "execute_result"
    }
   ],
   "source": [
    "# This a simple arithmetic expression to mutiply then add integers\n",
    "(3*4)+5"
   ]
  },
  {
   "cell_type": "code",
   "execution_count": 2,
   "id": "082dff02-c2b7-4546-8fcb-ee05ed60cb25",
   "metadata": {
    "tags": []
   },
   "outputs": [
    {
     "data": {
      "text/plain": [
       "3.3333333333333335"
      ]
     },
     "execution_count": 2,
     "metadata": {},
     "output_type": "execute_result"
    }
   ],
   "source": [
    "# This will convert 200 minutes to hours by diving by 60\n",
    "200/60"
   ]
  },
  {
   "cell_type": "markdown",
   "id": "878cd2d5-a4e5-49da-b208-ebf4083f93fa",
   "metadata": {
    "tags": []
   },
   "source": [
    "**Objectives:**\n",
    "- Introduction to Jupyter Notebooks\n",
    "- Jupyter Kernels\n",
    "- Jupyter Architecture\n",
    "- Additional Anaconda Jupyter Environments"
   ]
  },
  {
   "cell_type": "markdown",
   "id": "b6673671-7988-46bd-8a2a-29cb11f5e05d",
   "metadata": {
    "tags": []
   },
   "source": [
    "**Objectives:**\n",
    "- Introduction to Jupyter Notebooks\n",
    "- Jupyter Kernels\n",
    "- Jupyter Architecture\n",
    "- Additional Anaconda Jupyter Environments"
   ]
  },
  {
   "cell_type": "markdown",
   "id": "1581ace9-1953-40ad-b198-1103d26176cc",
   "metadata": {
    "tags": []
   },
   "source": [
    "## Author\n",
    " Ardra"
   ]
  },
  {
   "cell_type": "markdown",
   "id": "71bc47e4-86d4-463d-be1c-91ff8639f9fc",
   "metadata": {
    "tags": []
   },
   "source": [
    "## Author\n",
    " Ardra"
   ]
  }
 ],
 "metadata": {
  "kernelspec": {
   "display_name": "Python",
   "language": "python",
   "name": "conda-env-python-py"
  },
  "language_info": {
   "codemirror_mode": {
    "name": "ipython",
    "version": 3
   },
   "file_extension": ".py",
   "mimetype": "text/x-python",
   "name": "python",
   "nbconvert_exporter": "python",
   "pygments_lexer": "ipython3",
   "version": "3.7.12"
  }
 },
 "nbformat": 4,
 "nbformat_minor": 5
}
